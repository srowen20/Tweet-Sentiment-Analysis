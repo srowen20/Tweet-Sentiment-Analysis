{
 "cells": [
  {
   "cell_type": "markdown",
   "id": "59f3821d-5266-493a-ac7b-ad5ba00f2d6d",
   "metadata": {},
   "source": [
    "# Sentiment Analysis Using APIs"
   ]
  },
  {
   "cell_type": "markdown",
   "id": "4eb8fe8b-def3-4809-8d03-ee039fbc7c51",
   "metadata": {},
   "source": [
    "## Install and Import Required Libraries"
   ]
  },
  {
   "cell_type": "code",
   "execution_count": 1,
   "id": "217eb372-944e-4691-9106-7a504ac866b7",
   "metadata": {},
   "outputs": [],
   "source": [
    "%%capture\n",
    "!pip install spacy\n",
    "!pip install spacytextblob\n",
    "!python3 -m spacy download en_core_web_sm"
   ]
  },
  {
   "cell_type": "code",
   "execution_count": 2,
   "id": "6bbc5c0b-ed56-4006-b4a9-9449b7fc06d0",
   "metadata": {},
   "outputs": [],
   "source": [
    "import pandas as pd\n",
    "from sklearn.metrics import confusion_matrix\n",
    "from sklearn.metrics import f1_score\n",
    "import numpy as np\n",
    "from google.cloud import language_v1\n",
    "import six\n",
    "from google.cloud import bigquery\n",
    "import spacy\n",
    "from spacytextblob.spacytextblob import SpacyTextBlob\n",
    "from google.cloud import storage\n",
    "import datetime\n",
    "\n",
    "# For model evaluation\n",
    "from sklearn.metrics import f1_score, cohen_kappa_score, mean_squared_error\n",
    "from sklearn.metrics import mean_absolute_error, precision_score, recall_score\n",
    "\n",
    "# Confusion Matrix\n",
    "from sklearn.metrics import confusion_matrix\n",
    "import math\n",
    "from itertools import islice"
   ]
  },
  {
   "cell_type": "code",
   "execution_count": 3,
   "id": "d0beaf0d-e7a8-4bd2-9fa6-d54dd6ca99a0",
   "metadata": {},
   "outputs": [
    {
     "data": {
      "text/plain": [
       "<spacytextblob.spacytextblob.SpacyTextBlob at 0x7f952850e190>"
      ]
     },
     "execution_count": 3,
     "metadata": {},
     "output_type": "execute_result"
    }
   ],
   "source": [
    "nlp = spacy.load('en_core_web_sm')\n",
    "nlp.add_pipe('spacytextblob')"
   ]
  },
  {
   "attachments": {},
   "cell_type": "markdown",
   "id": "375c0478-ca32-4254-96e9-eeb9cc8ca548",
   "metadata": {},
   "source": [
    "## User Input\n",
    "\n",
    "Sensitive information has been replaced with `*****` in the following user inputs"
   ]
  },
  {
   "cell_type": "code",
   "execution_count": 4,
   "id": "761c7109-1001-4ae2-91aa-4decd654224a",
   "metadata": {},
   "outputs": [],
   "source": [
    "# GSUTIL URI of CSV File with Cleaned/Original Tweets (e.g. \"gs://<bucket_name>/<folder>/<file_name>\")\n",
    "bucket = '*****'\n",
    "data_path = '*****'\n",
    "gsutil_uri = f'gs://{bucket}/{data_path}/original_and_cleaned_with_labels_600_elements.csv'\n",
    "project_id = '*****'\n",
    "dataset_id = 'Corona_NLP'\n",
    "\n",
    "# Column names in the CSV file for clean and original tweets\n",
    "clean_tweets = 'CleanedTweet'\n",
    "original_tweets = 'OriginalTweet'\n",
    "\n",
    "# Google NLP API BigQuery Table name\n",
    "google_table_id = 'google_predictions'\n",
    "\n",
    "# SpaCy NLP API BigQuery Table name\n",
    "spacy_table_id = 'spacy_predictions'\n",
    "\n",
    "# Table Name for API Evaluations to be saved to\n",
    "evaluation_table_id = 'api_evaluation'\n",
    "\n",
    "# Table name for confusion matrices\n",
    "google_cm_id = 'google_cm'\n",
    "spacy_cm_id = 'spacy_cm'\n",
    "google_pct_cm_id = 'google_cm_percentage'\n",
    "spacy_pct_cm_id = 'spacy_cm_percentage'"
   ]
  },
  {
   "cell_type": "code",
   "execution_count": 5,
   "id": "d4900997-1918-4e3e-b2e9-fc676e81fdbd",
   "metadata": {},
   "outputs": [],
   "source": [
    "google_table_id = f\"{project_id}.{dataset_id}.{google_table_id}\"\n",
    "spacy_table_id = f\"{project_id}.{dataset_id}.{spacy_table_id}\"\n",
    "evaluation_table_id = f\"{project_id}.{dataset_id}.{evaluation_table_id}\"\n",
    "google_cm_table_id = f\"{project_id}.{dataset_id}.{google_cm_id}\"\n",
    "spacy_cm_table_id = f\"{project_id}.{dataset_id}.{spacy_cm_id}\"\n",
    "google_cm_pct_table_id = f\"{project_id}.{dataset_id}.{google_pct_cm_id}\"\n",
    "spacy_cm_pct_table_id = f\"{project_id}.{dataset_id}.{spacy_pct_cm_id}\""
   ]
  },
  {
   "cell_type": "markdown",
   "id": "730ab8a8-ce25-471f-8297-f962611a88b7",
   "metadata": {},
   "source": [
    "## Shared Functions"
   ]
  },
  {
   "cell_type": "code",
   "execution_count": 7,
   "id": "b17335b7-abdd-4172-9301-3fef1d59ca93",
   "metadata": {},
   "outputs": [],
   "source": [
    "def read_from_cs(gsutil_uri):\n",
    "    \"\"\" \n",
    "    Reads a CSV file from GCS and returns a pandas dataframe of that file. \n",
    "    Args:\n",
    "        gsutil_uri (str): Gsutil URI of the CSV file\n",
    "    \"\"\"\n",
    "    data = pd.read_csv(gsutil_uri)\n",
    "    test_df = data[data['Set'] == 'TEST']\n",
    "    return test_df\n",
    "\n",
    "def round_score(val):\n",
    "    \"\"\"\n",
    "    Rounds the input value to a whole number: 0, 1 or 2. The APIs make a float prediction of the sentiment,\n",
    "    which falls between -1 and 1, with -1 being negative and 1 being positive sentiment. The true\n",
    "    sentiments take integer value of 0 (negative), 1 (neutral) or 2 (positive). Therefore\n",
    "    the predictions have been converted to integers 0, 1 or 2. E.g. a predicted sentiment of -0.6\n",
    "    would be converted to 0, a negative sentiment.\n",
    "    \n",
    "    Args:\n",
    "        val (float): a float representing a predicted sentiment, taking a value between -1 and 1.\n",
    "    \"\"\"\n",
    "    if val <= -0.4:\n",
    "        return 0\n",
    "    elif -0.3 <= val <= 0.3:\n",
    "        return 1\n",
    "    else:\n",
    "        return 2"
   ]
  },
  {
   "cell_type": "code",
   "execution_count": 8,
   "id": "8c698a79-6b57-4193-93a5-76816130606c",
   "metadata": {},
   "outputs": [],
   "source": [
    "def load_to_bq(table_id, data, write_disposition):\n",
    "    \"\"\"\n",
    "    Load a pandas dataframe to a BigQuery table.\n",
    "    \n",
    "    Args:\n",
    "        table_id: BigQuery table name (must be created already)\n",
    "        data: The dataframe to load\n",
    "        write_disposition: method of writing the data, e.g. \"WRITE_APPEND\" appends to a table\n",
    "    \"\"\"\n",
    "    client = bigquery.Client()\n",
    "    job_config = bigquery.LoadJobConfig(\n",
    "        write_disposition=write_disposition)\n",
    "    job = client.load_table_from_dataframe(\n",
    "        data, table_id, job_config=job_config)\n",
    "    table = client.get_table(table_id)"
   ]
  },
  {
   "cell_type": "code",
   "execution_count": 9,
   "id": "cdadf661-4dfb-4952-933c-9d0e211c0016",
   "metadata": {},
   "outputs": [],
   "source": [
    "# Load dataframe\n",
    "df = read_from_cs(gsutil_uri)\n",
    "df = df[[clean_tweets, 'Sentiment']]"
   ]
  },
  {
   "cell_type": "code",
   "execution_count": 10,
   "id": "54c52479-3a53-4317-a815-2a34397d35bf",
   "metadata": {},
   "outputs": [
    {
     "data": {
      "text/html": [
       "<div>\n",
       "<style scoped>\n",
       "    .dataframe tbody tr th:only-of-type {\n",
       "        vertical-align: middle;\n",
       "    }\n",
       "\n",
       "    .dataframe tbody tr th {\n",
       "        vertical-align: top;\n",
       "    }\n",
       "\n",
       "    .dataframe thead th {\n",
       "        text-align: right;\n",
       "    }\n",
       "</style>\n",
       "<table border=\"1\" class=\"dataframe\">\n",
       "  <thead>\n",
       "    <tr style=\"text-align: right;\">\n",
       "      <th></th>\n",
       "      <th>CleanedTweet</th>\n",
       "      <th>Sentiment</th>\n",
       "    </tr>\n",
       "  </thead>\n",
       "  <tbody>\n",
       "    <tr>\n",
       "      <th>480</th>\n",
       "      <td>amid overall panic nonavailability essential f...</td>\n",
       "      <td>0</td>\n",
       "    </tr>\n",
       "    <tr>\n",
       "      <th>481</th>\n",
       "      <td>thought company hero health crisis coronavirus...</td>\n",
       "      <td>2</td>\n",
       "    </tr>\n",
       "    <tr>\n",
       "      <th>482</th>\n",
       "      <td>boomer looked millennials killing brick mortar...</td>\n",
       "      <td>0</td>\n",
       "    </tr>\n",
       "    <tr>\n",
       "      <th>483</th>\n",
       "      <td>idiot stole center console last night take han...</td>\n",
       "      <td>0</td>\n",
       "    </tr>\n",
       "    <tr>\n",
       "      <th>484</th>\n",
       "      <td>get creative confinement week launched x submi...</td>\n",
       "      <td>2</td>\n",
       "    </tr>\n",
       "  </tbody>\n",
       "</table>\n",
       "</div>"
      ],
      "text/plain": [
       "                                          CleanedTweet  Sentiment\n",
       "480  amid overall panic nonavailability essential f...          0\n",
       "481  thought company hero health crisis coronavirus...          2\n",
       "482  boomer looked millennials killing brick mortar...          0\n",
       "483  idiot stole center console last night take han...          0\n",
       "484  get creative confinement week launched x submi...          2"
      ]
     },
     "execution_count": 10,
     "metadata": {},
     "output_type": "execute_result"
    }
   ],
   "source": [
    "df.head()"
   ]
  },
  {
   "cell_type": "markdown",
   "id": "44199fd1-f3d8-4f85-bb3e-ac53abe069c4",
   "metadata": {
    "tags": []
   },
   "source": [
    "## Google NLP API"
   ]
  },
  {
   "cell_type": "code",
   "execution_count": 11,
   "id": "e1a9fd8e-6637-4823-bf7d-6a074de10acf",
   "metadata": {},
   "outputs": [],
   "source": [
    "def google_analyze_sentiment(content):\n",
    "    \"\"\"\n",
    "    Analyse the sentiment of a tweet using the Google NLP API. Returns the predicted sentiment \n",
    "    with a float value between -1 and 1, -1 being negative and 1 being positive.\n",
    "    \n",
    "    Args:\n",
    "        content: the string to be analysed\n",
    "    \"\"\"\n",
    "    client = language_v1.LanguageServiceClient()\n",
    "    if isinstance(content, six.binary_type):\n",
    "        content = content.decode(\"utf-8\")\n",
    "    type_ = language_v1.Document.Type.PLAIN_TEXT\n",
    "    document = {\"type_\": type_, \"content\": content}\n",
    "    response = client.analyze_sentiment(request={\"document\": document})\n",
    "    sentiment = response.document_sentiment\n",
    "    return sentiment.score"
   ]
  },
  {
   "cell_type": "code",
   "execution_count": 12,
   "id": "6e8f7326-c1bd-4ed4-8bd9-eef7c59deb72",
   "metadata": {},
   "outputs": [],
   "source": [
    "def google_get_predictions(data, tweet_colunm):\n",
    "    \"\"\"\n",
    "    Calls the tweet analysis function to get a sentiment prediction from a tweet. Rounds\n",
    "    the predicted sentiment value to those present in the actual sentiment. \n",
    "    \n",
    "    Args:\n",
    "        data: the dataframe for sentiment analysis\n",
    "        tweet_column: the name of the column containing the tweets to be analysed\n",
    "    \"\"\"\n",
    "    data['clean_pred'] = data[tweet_colunm].apply(google_analyze_sentiment)\n",
    "    data['clean_pred'] = data['clean_pred'].apply(round_score)\n",
    "    return data"
   ]
  },
  {
   "cell_type": "code",
   "execution_count": 13,
   "id": "08999a30-805e-49be-a36a-24ebc684d1bb",
   "metadata": {},
   "outputs": [],
   "source": [
    "# Make predictions\n",
    "google_predictions_df = google_get_predictions(df, clean_tweets)"
   ]
  },
  {
   "cell_type": "code",
   "execution_count": 14,
   "id": "383c7fcd-6ff2-4b26-9b17-5207b5cd2db6",
   "metadata": {},
   "outputs": [
    {
     "data": {
      "text/html": [
       "<div>\n",
       "<style scoped>\n",
       "    .dataframe tbody tr th:only-of-type {\n",
       "        vertical-align: middle;\n",
       "    }\n",
       "\n",
       "    .dataframe tbody tr th {\n",
       "        vertical-align: top;\n",
       "    }\n",
       "\n",
       "    .dataframe thead th {\n",
       "        text-align: right;\n",
       "    }\n",
       "</style>\n",
       "<table border=\"1\" class=\"dataframe\">\n",
       "  <thead>\n",
       "    <tr style=\"text-align: right;\">\n",
       "      <th></th>\n",
       "      <th>CleanedTweet</th>\n",
       "      <th>Sentiment</th>\n",
       "      <th>clean_pred</th>\n",
       "    </tr>\n",
       "  </thead>\n",
       "  <tbody>\n",
       "    <tr>\n",
       "      <th>480</th>\n",
       "      <td>amid overall panic nonavailability essential f...</td>\n",
       "      <td>0</td>\n",
       "      <td>0</td>\n",
       "    </tr>\n",
       "    <tr>\n",
       "      <th>481</th>\n",
       "      <td>thought company hero health crisis coronavirus...</td>\n",
       "      <td>2</td>\n",
       "      <td>1</td>\n",
       "    </tr>\n",
       "    <tr>\n",
       "      <th>482</th>\n",
       "      <td>boomer looked millennials killing brick mortar...</td>\n",
       "      <td>0</td>\n",
       "      <td>0</td>\n",
       "    </tr>\n",
       "    <tr>\n",
       "      <th>483</th>\n",
       "      <td>idiot stole center console last night take han...</td>\n",
       "      <td>0</td>\n",
       "      <td>0</td>\n",
       "    </tr>\n",
       "    <tr>\n",
       "      <th>484</th>\n",
       "      <td>get creative confinement week launched x submi...</td>\n",
       "      <td>2</td>\n",
       "      <td>2</td>\n",
       "    </tr>\n",
       "  </tbody>\n",
       "</table>\n",
       "</div>"
      ],
      "text/plain": [
       "                                          CleanedTweet  Sentiment  clean_pred\n",
       "480  amid overall panic nonavailability essential f...          0           0\n",
       "481  thought company hero health crisis coronavirus...          2           1\n",
       "482  boomer looked millennials killing brick mortar...          0           0\n",
       "483  idiot stole center console last night take han...          0           0\n",
       "484  get creative confinement week launched x submi...          2           2"
      ]
     },
     "execution_count": 14,
     "metadata": {},
     "output_type": "execute_result"
    }
   ],
   "source": [
    "google_predictions_df.head()"
   ]
  },
  {
   "cell_type": "code",
   "execution_count": 15,
   "id": "c9bc21e6-4f16-44b7-84f1-249731055e7c",
   "metadata": {},
   "outputs": [],
   "source": [
    "# Save to BigQuery\n",
    "load_to_bq(google_table_id, google_predictions_df, write_disposition=\"WRITE_TRUNCATE\")"
   ]
  },
  {
   "cell_type": "markdown",
   "id": "4d9babdc-b963-4496-a9d0-3d27de27e8ad",
   "metadata": {},
   "source": [
    "## SpaCY NLP API"
   ]
  },
  {
   "cell_type": "code",
   "execution_count": 16,
   "id": "d45369ae-49a4-4e42-aa85-309fa0c55ac4",
   "metadata": {},
   "outputs": [],
   "source": [
    "def spacy_analyze_sentiment(tweet):\n",
    "    \"\"\"\n",
    "    Call the SpaCy API to get a sentiment prediction from a tweet. Outputs a sentiment value\n",
    "    between -1 and 1, with -1 being the most negative and 1 being most positive. \n",
    "    \n",
    "    Args:\n",
    "        tweet (str): the tweet to be analysed\n",
    "    \"\"\"\n",
    "    doc = nlp(tweet)\n",
    "    sentiment = doc._.blob.polarity\n",
    "    return sentiment"
   ]
  },
  {
   "cell_type": "code",
   "execution_count": 17,
   "id": "c6b2e4c7-a0e3-4c58-9194-6323694a8067",
   "metadata": {},
   "outputs": [],
   "source": [
    "def spacy_get_predictions(data, tweet_colunm):\n",
    "    \"\"\"\n",
    "    Gets a prediction of the sentiment of tweets in a dataframe. \n",
    "    \n",
    "    Args:\n",
    "        data: the dataframe to be analysed\n",
    "        tweet_column: the name of the column containing the tweets\n",
    "    \"\"\"\n",
    "    data['clean_pred'] = data[tweet_colunm].apply(spacy_analyze_sentiment)\n",
    "    data['clean_pred'] = data['clean_pred'].apply(round_score)\n",
    "    return data"
   ]
  },
  {
   "cell_type": "code",
   "execution_count": 18,
   "id": "13560b62-2b00-453b-8961-c7e694177685",
   "metadata": {},
   "outputs": [],
   "source": [
    "# Make predictions\n",
    "spacy_predictions_df = spacy_get_predictions(df, clean_tweets)"
   ]
  },
  {
   "cell_type": "code",
   "execution_count": 19,
   "id": "54893720-db98-432d-af6e-9082f8bcaab3",
   "metadata": {},
   "outputs": [
    {
     "data": {
      "text/html": [
       "<div>\n",
       "<style scoped>\n",
       "    .dataframe tbody tr th:only-of-type {\n",
       "        vertical-align: middle;\n",
       "    }\n",
       "\n",
       "    .dataframe tbody tr th {\n",
       "        vertical-align: top;\n",
       "    }\n",
       "\n",
       "    .dataframe thead th {\n",
       "        text-align: right;\n",
       "    }\n",
       "</style>\n",
       "<table border=\"1\" class=\"dataframe\">\n",
       "  <thead>\n",
       "    <tr style=\"text-align: right;\">\n",
       "      <th></th>\n",
       "      <th>CleanedTweet</th>\n",
       "      <th>Sentiment</th>\n",
       "      <th>clean_pred</th>\n",
       "    </tr>\n",
       "  </thead>\n",
       "  <tbody>\n",
       "    <tr>\n",
       "      <th>480</th>\n",
       "      <td>amid overall panic nonavailability essential f...</td>\n",
       "      <td>0</td>\n",
       "      <td>1</td>\n",
       "    </tr>\n",
       "    <tr>\n",
       "      <th>481</th>\n",
       "      <td>thought company hero health crisis coronavirus...</td>\n",
       "      <td>2</td>\n",
       "      <td>1</td>\n",
       "    </tr>\n",
       "    <tr>\n",
       "      <th>482</th>\n",
       "      <td>boomer looked millennials killing brick mortar...</td>\n",
       "      <td>0</td>\n",
       "      <td>1</td>\n",
       "    </tr>\n",
       "    <tr>\n",
       "      <th>483</th>\n",
       "      <td>idiot stole center console last night take han...</td>\n",
       "      <td>0</td>\n",
       "      <td>1</td>\n",
       "    </tr>\n",
       "    <tr>\n",
       "      <th>484</th>\n",
       "      <td>get creative confinement week launched x submi...</td>\n",
       "      <td>2</td>\n",
       "      <td>2</td>\n",
       "    </tr>\n",
       "  </tbody>\n",
       "</table>\n",
       "</div>"
      ],
      "text/plain": [
       "                                          CleanedTweet  Sentiment  clean_pred\n",
       "480  amid overall panic nonavailability essential f...          0           1\n",
       "481  thought company hero health crisis coronavirus...          2           1\n",
       "482  boomer looked millennials killing brick mortar...          0           1\n",
       "483  idiot stole center console last night take han...          0           1\n",
       "484  get creative confinement week launched x submi...          2           2"
      ]
     },
     "execution_count": 19,
     "metadata": {},
     "output_type": "execute_result"
    }
   ],
   "source": [
    "spacy_predictions_df.head()"
   ]
  },
  {
   "cell_type": "code",
   "execution_count": 20,
   "id": "266cff8e-e837-4d23-aeea-aade481892cf",
   "metadata": {},
   "outputs": [],
   "source": [
    "# Save to BigQuery\n",
    "load_to_bq(spacy_table_id, spacy_predictions_df, write_disposition=\"WRITE_TRUNCATE\")"
   ]
  },
  {
   "cell_type": "markdown",
   "id": "5f01b3ea-07c8-4eaa-bd6f-aea5eaf27d16",
   "metadata": {},
   "source": [
    "## Prediction Evaluations"
   ]
  },
  {
   "cell_type": "code",
   "execution_count": 21,
   "id": "23d32f26-cdb4-460f-be2d-548f534af75e",
   "metadata": {},
   "outputs": [],
   "source": [
    "def load_from_bq(table_ref): \n",
    "    \"\"\"\n",
    "    Load a table from BigQuery as a pandas dataframe. \n",
    "    \n",
    "    Args:\n",
    "        table_ref: The BigQuery table name - {project}.{dataset}.{table}\n",
    "    \"\"\"\n",
    "    client = bigquery.Client()\n",
    "    table = client.get_table(table_ref)\n",
    "    df = client.list_rows(table).to_dataframe()\n",
    "    return df"
   ]
  },
  {
   "cell_type": "code",
   "execution_count": 22,
   "id": "d13f8c66-8ea5-43d2-a483-98877607fd76",
   "metadata": {},
   "outputs": [],
   "source": [
    "def get_evaluation(y_true, y_pred, api_name):\n",
    "    \"\"\"\n",
    "    Get evaluation scores using the predicted and real values.\n",
    "    \n",
    "    Args:\n",
    "        y_true: list of actual values\n",
    "        y_pred: list of predicted values\n",
    "        api_name: name of the api being used to use as an identifier in the evaluation table\n",
    "    \"\"\"\n",
    "    f1 = f1_score(y_true, y_pred, average=\"weighted\")\n",
    "    lk = cohen_kappa_score(y_true, y_pred)\n",
    "    mse = mean_squared_error(y_true, y_pred)\n",
    "    mae = mean_absolute_error(y_true, y_pred)\n",
    "    precision = precision_score(y_true, y_pred, average=\"weighted\")\n",
    "    recall = recall_score(y_true, y_pred, average=\"weighted\")\n",
    "    evaluation_results = {'time': datetime.datetime.now().strftime('%A %d %B %Y %I:%M:%S%p'),\n",
    "                          'API': api_name,\n",
    "                          'f1Score': f1,\n",
    "                          'linearKappa': lk, \n",
    "                          'meanSquaredError': mse, \n",
    "                          'meanAbsoluteError': mae, \n",
    "                          'precision': precision, \n",
    "                          'recall': recall}\n",
    "    return evaluation_results"
   ]
  },
  {
   "cell_type": "code",
   "execution_count": 23,
   "id": "74502476-cade-4958-ba05-252da44ce3fe",
   "metadata": {},
   "outputs": [],
   "source": [
    "# Get SpaCy Predictions\n",
    "spacy_df = load_from_bq(spacy_table_id)\n",
    "spacy_y_true = spacy_df['Sentiment'].tolist()\n",
    "spacy_y_pred = spacy_df['clean_pred'].tolist()\n",
    "spacy_evaluations = get_evaluation(spacy_y_true, spacy_y_pred, \"spacy\")\n",
    "spacy_evaluations_df = pd.DataFrame(spacy_evaluations, index=[0])"
   ]
  },
  {
   "cell_type": "code",
   "execution_count": 24,
   "id": "c7577256-7bc6-4c58-a3e2-2ae0288c5034",
   "metadata": {},
   "outputs": [
    {
     "data": {
      "text/html": [
       "<div>\n",
       "<style scoped>\n",
       "    .dataframe tbody tr th:only-of-type {\n",
       "        vertical-align: middle;\n",
       "    }\n",
       "\n",
       "    .dataframe tbody tr th {\n",
       "        vertical-align: top;\n",
       "    }\n",
       "\n",
       "    .dataframe thead th {\n",
       "        text-align: right;\n",
       "    }\n",
       "</style>\n",
       "<table border=\"1\" class=\"dataframe\">\n",
       "  <thead>\n",
       "    <tr style=\"text-align: right;\">\n",
       "      <th></th>\n",
       "      <th>time</th>\n",
       "      <th>API</th>\n",
       "      <th>f1Score</th>\n",
       "      <th>linearKappa</th>\n",
       "      <th>meanSquaredError</th>\n",
       "      <th>meanAbsoluteError</th>\n",
       "      <th>precision</th>\n",
       "      <th>recall</th>\n",
       "    </tr>\n",
       "  </thead>\n",
       "  <tbody>\n",
       "    <tr>\n",
       "      <th>0</th>\n",
       "      <td>Wednesday 25 January 2023 02:56:35PM</td>\n",
       "      <td>spacy</td>\n",
       "      <td>0.338236</td>\n",
       "      <td>0.1</td>\n",
       "      <td>0.75</td>\n",
       "      <td>0.65</td>\n",
       "      <td>0.509456</td>\n",
       "      <td>0.4</td>\n",
       "    </tr>\n",
       "  </tbody>\n",
       "</table>\n",
       "</div>"
      ],
      "text/plain": [
       "                                   time    API   f1Score  linearKappa  \\\n",
       "0  Wednesday 25 January 2023 02:56:35PM  spacy  0.338236          0.1   \n",
       "\n",
       "   meanSquaredError  meanAbsoluteError  precision  recall  \n",
       "0              0.75               0.65   0.509456     0.4  "
      ]
     },
     "execution_count": 24,
     "metadata": {},
     "output_type": "execute_result"
    }
   ],
   "source": [
    "spacy_evaluations_df.head()"
   ]
  },
  {
   "cell_type": "code",
   "execution_count": 25,
   "id": "b5d2c8d6-dd6f-4093-b33b-6dc21af88ec5",
   "metadata": {},
   "outputs": [],
   "source": [
    "# Get Google Predictions\n",
    "google_df = load_from_bq(google_table_id)\n",
    "google_y_true = google_df['Sentiment'].tolist()\n",
    "google_y_pred = google_df['clean_pred'].tolist()\n",
    "google_evaluations = get_evaluation(google_y_true, google_y_pred, \"google\")\n",
    "google_evaluations_df = pd.DataFrame(google_evaluations, index=[0])"
   ]
  },
  {
   "cell_type": "code",
   "execution_count": 26,
   "id": "1ed77a24-5b6c-46ce-b308-8a59455d2ed9",
   "metadata": {},
   "outputs": [
    {
     "data": {
      "text/html": [
       "<div>\n",
       "<style scoped>\n",
       "    .dataframe tbody tr th:only-of-type {\n",
       "        vertical-align: middle;\n",
       "    }\n",
       "\n",
       "    .dataframe tbody tr th {\n",
       "        vertical-align: top;\n",
       "    }\n",
       "\n",
       "    .dataframe thead th {\n",
       "        text-align: right;\n",
       "    }\n",
       "</style>\n",
       "<table border=\"1\" class=\"dataframe\">\n",
       "  <thead>\n",
       "    <tr style=\"text-align: right;\">\n",
       "      <th></th>\n",
       "      <th>time</th>\n",
       "      <th>API</th>\n",
       "      <th>f1Score</th>\n",
       "      <th>linearKappa</th>\n",
       "      <th>meanSquaredError</th>\n",
       "      <th>meanAbsoluteError</th>\n",
       "      <th>precision</th>\n",
       "      <th>recall</th>\n",
       "    </tr>\n",
       "  </thead>\n",
       "  <tbody>\n",
       "    <tr>\n",
       "      <th>0</th>\n",
       "      <td>Wednesday 25 January 2023 02:56:40PM</td>\n",
       "      <td>google</td>\n",
       "      <td>0.46694</td>\n",
       "      <td>0.2</td>\n",
       "      <td>0.683333</td>\n",
       "      <td>0.583333</td>\n",
       "      <td>0.480331</td>\n",
       "      <td>0.466667</td>\n",
       "    </tr>\n",
       "  </tbody>\n",
       "</table>\n",
       "</div>"
      ],
      "text/plain": [
       "                                   time     API  f1Score  linearKappa  \\\n",
       "0  Wednesday 25 January 2023 02:56:40PM  google  0.46694          0.2   \n",
       "\n",
       "   meanSquaredError  meanAbsoluteError  precision    recall  \n",
       "0          0.683333           0.583333   0.480331  0.466667  "
      ]
     },
     "execution_count": 26,
     "metadata": {},
     "output_type": "execute_result"
    }
   ],
   "source": [
    "google_evaluations_df.head()"
   ]
  },
  {
   "cell_type": "code",
   "execution_count": 27,
   "id": "a47d11b5-19e6-439f-9033-0cf4650e69ca",
   "metadata": {},
   "outputs": [],
   "source": [
    "# Load to BQ Table\n",
    "load_to_bq(evaluation_table_id, spacy_evaluations_df, write_disposition=\"WRITE_APPEND\")\n",
    "load_to_bq(evaluation_table_id, google_evaluations_df, write_disposition=\"WRITE_APPEND\")"
   ]
  },
  {
   "cell_type": "markdown",
   "id": "f6fabf45-a6ba-457a-b0d0-2b443d033eb5",
   "metadata": {},
   "source": [
    "## Confusion Matrix"
   ]
  },
  {
   "cell_type": "code",
   "execution_count": 28,
   "id": "df1c219f-8ea4-499a-bdf3-f9d9efb0273e",
   "metadata": {},
   "outputs": [],
   "source": [
    "def convert_cm_to_percentage(cm):\n",
    "    \"\"\"\n",
    "    Takes a confusion matrix as input and outputs a confusion matrix with predictions as a \n",
    "    percentage of the total true values. \n",
    "    \n",
    "    Args:\n",
    "        cm: confusion matrix to convert\n",
    "    \"\"\"\n",
    "    confusion_percentage_accurracies = []\n",
    "    for i in cm:\n",
    "        for j in i:\n",
    "            confusion_percentage_accurracies.append(j/int(sum(i)))\n",
    "\n",
    "\n",
    "    cm_size = int(math.sqrt(len(confusion_percentage_accurracies)))\n",
    "    length_to_split = [cm_size] * cm_size\n",
    "    iter_item = iter(confusion_percentage_accurracies)\n",
    "    confusion_percentage_array = [list(islice(iter_item, elem))\n",
    "            for elem in length_to_split]\n",
    "    \n",
    "    return confusion_percentage_array\n"
   ]
  },
  {
   "cell_type": "code",
   "execution_count": 29,
   "id": "dd044961-4c42-413e-af08-b2b2f26de060",
   "metadata": {},
   "outputs": [],
   "source": [
    "def create_cm(y_true, y_pred):\n",
    "    \"\"\"\n",
    "    Create a confusion matrix from real and predicted values.\n",
    "    Args:\n",
    "        y_true: list of actual values\n",
    "        y_pred: list of predicted values\n",
    "    \"\"\"\n",
    "    return confusion_matrix(y_true, y_pred, labels = [0,1,2])"
   ]
  },
  {
   "cell_type": "code",
   "execution_count": 111,
   "id": "da885dae-7a62-4111-8a07-afa43f7e55d1",
   "metadata": {},
   "outputs": [],
   "source": [
    "def create_cm_df(cm, model_id):\n",
    "    \"\"\"\n",
    "    Create a pandas dataframe of the confusion matrix, containing model id and more\n",
    "    detailed labelling for columns and rows.\n",
    "    \n",
    "    Args:\n",
    "        cm: confusion matrix \n",
    "        model_id: ID of the model to use as a column value\n",
    "    \"\"\"\n",
    "    pred_cols = ['Negative_pred', 'Neutral_pred', 'Positive_pred']\n",
    "    actual_cols = ['Negative', 'Neutral', 'Positive']\n",
    "    df = pd.DataFrame(cm, columns=pred_cols)\n",
    "    df.insert(loc=0, column='model_id', value=[model_id, model_id, model_id])\n",
    "    df.insert(loc=1, column='Sentiment_actuals', value=actual_cols)\n",
    "    return df"
   ]
  },
  {
   "cell_type": "code",
   "execution_count": 109,
   "id": "4a3a4368-2682-4740-8c6d-3a927b82351f",
   "metadata": {},
   "outputs": [],
   "source": [
    "# Create confusion matrices of both APIs as integers and percentages\n",
    "google_cm = create_cm(google_y_true, google_y_pred)\n",
    "spacy_cm = create_cm(spacy_y_true, spacy_y_pred)\n",
    "\n",
    "spacy_cm_percentage = convert_cm_to_percentage(spacy_cm)\n",
    "google_cm_percentage = convert_cm_to_percentage(google_cm)"
   ]
  },
  {
   "cell_type": "code",
   "execution_count": 110,
   "id": "cb4c036d-75e7-4783-84a8-c1fe18a1d263",
   "metadata": {},
   "outputs": [
    {
     "name": "stdout",
     "output_type": "stream",
     "text": [
      "[[13  6  1]\n",
      " [ 8  7  5]\n",
      " [ 2 10  8]]\n",
      "[[ 2 15  3]\n",
      " [ 1 17  2]\n",
      " [ 0 15  5]]\n"
     ]
    }
   ],
   "source": [
    "print(google_cm)\n",
    "print(spacy_cm)"
   ]
  },
  {
   "cell_type": "code",
   "execution_count": 112,
   "id": "4b7198a0-836e-4a7b-b4db-690b25667f5f",
   "metadata": {},
   "outputs": [],
   "source": [
    "# Create dataframes of confusion matrices that can be uploaded to BQ\n",
    "google_model_id = (\"google_\" + str(datetime.datetime.now().strftime('%d-%m-%Y_%I:%M:%S')))\n",
    "spacy_model_id = (\"spacy_\" + str(datetime.datetime.now().strftime('%d-%m-%Y_%I:%M:%S')))\n",
    "\n",
    "google_cm_df = create_cm_df(google_cm, google_model_id)\n",
    "spacy_cm_df = create_cm_df(spacy_cm, spacy_model_id)\n",
    "\n",
    "google_cm_percentage_df = create_cm_df(google_cm_percentage, google_model_id)\n",
    "spacy_cm_percentage_df = create_cm_df(spacy_cm_percentage, spacy_model_id)"
   ]
  },
  {
   "cell_type": "code",
   "execution_count": 114,
   "id": "8fb5fdb1-f4a8-473c-b68d-e1f00cb3c8b2",
   "metadata": {},
   "outputs": [
    {
     "data": {
      "text/html": [
       "<div>\n",
       "<style scoped>\n",
       "    .dataframe tbody tr th:only-of-type {\n",
       "        vertical-align: middle;\n",
       "    }\n",
       "\n",
       "    .dataframe tbody tr th {\n",
       "        vertical-align: top;\n",
       "    }\n",
       "\n",
       "    .dataframe thead th {\n",
       "        text-align: right;\n",
       "    }\n",
       "</style>\n",
       "<table border=\"1\" class=\"dataframe\">\n",
       "  <thead>\n",
       "    <tr style=\"text-align: right;\">\n",
       "      <th></th>\n",
       "      <th>model_id</th>\n",
       "      <th>Sentiment_actuals</th>\n",
       "      <th>Negative_pred</th>\n",
       "      <th>Neutral_pred</th>\n",
       "      <th>Positive_pred</th>\n",
       "    </tr>\n",
       "  </thead>\n",
       "  <tbody>\n",
       "    <tr>\n",
       "      <th>0</th>\n",
       "      <td>google_25-01-2023_03:12:04</td>\n",
       "      <td>Negative</td>\n",
       "      <td>13</td>\n",
       "      <td>6</td>\n",
       "      <td>1</td>\n",
       "    </tr>\n",
       "    <tr>\n",
       "      <th>1</th>\n",
       "      <td>google_25-01-2023_03:12:04</td>\n",
       "      <td>Neutral</td>\n",
       "      <td>8</td>\n",
       "      <td>7</td>\n",
       "      <td>5</td>\n",
       "    </tr>\n",
       "    <tr>\n",
       "      <th>2</th>\n",
       "      <td>google_25-01-2023_03:12:04</td>\n",
       "      <td>Positive</td>\n",
       "      <td>2</td>\n",
       "      <td>10</td>\n",
       "      <td>8</td>\n",
       "    </tr>\n",
       "  </tbody>\n",
       "</table>\n",
       "</div>"
      ],
      "text/plain": [
       "                     model_id Sentiment_actuals  Negative_pred  Neutral_pred  \\\n",
       "0  google_25-01-2023_03:12:04          Negative             13             6   \n",
       "1  google_25-01-2023_03:12:04           Neutral              8             7   \n",
       "2  google_25-01-2023_03:12:04          Positive              2            10   \n",
       "\n",
       "   Positive_pred  \n",
       "0              1  \n",
       "1              5  \n",
       "2              8  "
      ]
     },
     "execution_count": 114,
     "metadata": {},
     "output_type": "execute_result"
    }
   ],
   "source": [
    "google_cm_df"
   ]
  },
  {
   "cell_type": "code",
   "execution_count": 115,
   "id": "a3701250-2ddd-450f-8fad-ba9bd4ed7935",
   "metadata": {},
   "outputs": [
    {
     "data": {
      "text/html": [
       "<div>\n",
       "<style scoped>\n",
       "    .dataframe tbody tr th:only-of-type {\n",
       "        vertical-align: middle;\n",
       "    }\n",
       "\n",
       "    .dataframe tbody tr th {\n",
       "        vertical-align: top;\n",
       "    }\n",
       "\n",
       "    .dataframe thead th {\n",
       "        text-align: right;\n",
       "    }\n",
       "</style>\n",
       "<table border=\"1\" class=\"dataframe\">\n",
       "  <thead>\n",
       "    <tr style=\"text-align: right;\">\n",
       "      <th></th>\n",
       "      <th>model_id</th>\n",
       "      <th>Sentiment_actuals</th>\n",
       "      <th>Negative_pred</th>\n",
       "      <th>Neutral_pred</th>\n",
       "      <th>Positive_pred</th>\n",
       "    </tr>\n",
       "  </thead>\n",
       "  <tbody>\n",
       "    <tr>\n",
       "      <th>0</th>\n",
       "      <td>spacy_25-01-2023_03:12:04</td>\n",
       "      <td>Negative</td>\n",
       "      <td>2</td>\n",
       "      <td>15</td>\n",
       "      <td>3</td>\n",
       "    </tr>\n",
       "    <tr>\n",
       "      <th>1</th>\n",
       "      <td>spacy_25-01-2023_03:12:04</td>\n",
       "      <td>Neutral</td>\n",
       "      <td>1</td>\n",
       "      <td>17</td>\n",
       "      <td>2</td>\n",
       "    </tr>\n",
       "    <tr>\n",
       "      <th>2</th>\n",
       "      <td>spacy_25-01-2023_03:12:04</td>\n",
       "      <td>Positive</td>\n",
       "      <td>0</td>\n",
       "      <td>15</td>\n",
       "      <td>5</td>\n",
       "    </tr>\n",
       "  </tbody>\n",
       "</table>\n",
       "</div>"
      ],
      "text/plain": [
       "                    model_id Sentiment_actuals  Negative_pred  Neutral_pred  \\\n",
       "0  spacy_25-01-2023_03:12:04          Negative              2            15   \n",
       "1  spacy_25-01-2023_03:12:04           Neutral              1            17   \n",
       "2  spacy_25-01-2023_03:12:04          Positive              0            15   \n",
       "\n",
       "   Positive_pred  \n",
       "0              3  \n",
       "1              2  \n",
       "2              5  "
      ]
     },
     "execution_count": 115,
     "metadata": {},
     "output_type": "execute_result"
    }
   ],
   "source": [
    "spacy_cm_df"
   ]
  },
  {
   "cell_type": "code",
   "execution_count": 116,
   "id": "eff23d43-35bd-496d-8e4d-27641a9316cb",
   "metadata": {},
   "outputs": [],
   "source": [
    "# Save confusion matrices to BQ\n",
    "load_to_bq(google_cm_table_id, google_cm_df, \"WRITE_APPEND\")\n",
    "load_to_bq(spacy_cm_table_id, spacy_cm_df, \"WRITE_APPEND\")\n",
    "load_to_bq(google_cm_pct_table_id, google_cm_percentage_df, \"WRITE_APPEND\")\n",
    "load_to_bq(spacy_cm_pct_table_id, spacy_cm_percentage_df, \"WRITE_APPEND\")"
   ]
  }
 ],
 "metadata": {
  "kernelspec": {
   "display_name": "Python (Local)",
   "language": "python",
   "name": "local-base"
  },
  "language_info": {
   "codemirror_mode": {
    "name": "ipython",
    "version": 3
   },
   "file_extension": ".py",
   "mimetype": "text/x-python",
   "name": "python",
   "nbconvert_exporter": "python",
   "pygments_lexer": "ipython3",
   "version": "3.7.12"
  }
 },
 "nbformat": 4,
 "nbformat_minor": 5
}
